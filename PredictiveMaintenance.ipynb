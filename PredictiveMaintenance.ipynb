{
 "cells": [
  {
   "cell_type": "code",
   "execution_count": 1,
   "id": "b1e1ca87",
   "metadata": {},
   "outputs": [],
   "source": [
    "# !pip install imblearn --upgrade\n",
    "# !pip install plotly --upgrade\n",
    "# !pip install matplotlib\n",
    "# !pip install seaborn\n",
    "# !pip install pandas"
   ]
  },
  {
   "cell_type": "code",
   "execution_count": 2,
   "id": "b7693783",
   "metadata": {},
   "outputs": [],
   "source": [
    "import plotly\n",
    "import plotly.graph_objs as go\n",
    "import matplotlib.pyplot as plt\n",
    "import seaborn as sns\n",
    "import pandas as pd\n",
    "import numpy as np\n",
    "from imblearn.over_sampling import SMOTE\n",
    "from imblearn.over_sampling import SMOTENC\n",
    "sns.set(style=\"darkgrid\")"
   ]
  },
  {
   "cell_type": "markdown",
   "id": "358d11bc",
   "metadata": {},
   "source": [
    "## Data Preprocessing and Visualization"
   ]
  },
  {
   "cell_type": "code",
   "execution_count": 3,
   "id": "1cd6ad0d",
   "metadata": {},
   "outputs": [],
   "source": [
    "data = pd.read_csv(\"equipment_failure_data_1.csv\", header=0)"
   ]
  },
  {
   "cell_type": "code",
   "execution_count": 4,
   "id": "bb233f2a",
   "metadata": {},
   "outputs": [
    {
     "data": {
      "text/html": [
       "<div>\n",
       "<style scoped>\n",
       "    .dataframe tbody tr th:only-of-type {\n",
       "        vertical-align: middle;\n",
       "    }\n",
       "\n",
       "    .dataframe tbody tr th {\n",
       "        vertical-align: top;\n",
       "    }\n",
       "\n",
       "    .dataframe thead th {\n",
       "        text-align: right;\n",
       "    }\n",
       "</style>\n",
       "<table border=\"1\" class=\"dataframe\">\n",
       "  <thead>\n",
       "    <tr style=\"text-align: right;\">\n",
       "      <th></th>\n",
       "      <th>ID</th>\n",
       "      <th>DATE</th>\n",
       "      <th>REGION_CLUSTER</th>\n",
       "      <th>MAINTENANCE_VENDOR</th>\n",
       "      <th>MANUFACTURER</th>\n",
       "      <th>WELL_GROUP</th>\n",
       "      <th>S15</th>\n",
       "      <th>S17</th>\n",
       "      <th>S13</th>\n",
       "      <th>S5</th>\n",
       "      <th>S16</th>\n",
       "      <th>S19</th>\n",
       "      <th>S18</th>\n",
       "      <th>EQUIPMENT_FAILURE</th>\n",
       "      <th>S8</th>\n",
       "      <th>AGE_OF_EQUIPMENT</th>\n",
       "    </tr>\n",
       "  </thead>\n",
       "  <tbody>\n",
       "    <tr>\n",
       "      <th>0</th>\n",
       "      <td>100001</td>\n",
       "      <td>12/2/14</td>\n",
       "      <td>G</td>\n",
       "      <td>O</td>\n",
       "      <td>Y</td>\n",
       "      <td>1</td>\n",
       "      <td>11.088000</td>\n",
       "      <td>145.223448</td>\n",
       "      <td>39.34</td>\n",
       "      <td>3501.0</td>\n",
       "      <td>8.426869</td>\n",
       "      <td>1.9</td>\n",
       "      <td>24.610345</td>\n",
       "      <td>0</td>\n",
       "      <td>0.0</td>\n",
       "      <td>880</td>\n",
       "    </tr>\n",
       "    <tr>\n",
       "      <th>1</th>\n",
       "      <td>100001</td>\n",
       "      <td>12/3/14</td>\n",
       "      <td>G</td>\n",
       "      <td>O</td>\n",
       "      <td>Y</td>\n",
       "      <td>1</td>\n",
       "      <td>8.877943</td>\n",
       "      <td>187.573214</td>\n",
       "      <td>39.20</td>\n",
       "      <td>3489.0</td>\n",
       "      <td>6.483714</td>\n",
       "      <td>1.9</td>\n",
       "      <td>24.671429</td>\n",
       "      <td>0</td>\n",
       "      <td>0.0</td>\n",
       "      <td>881</td>\n",
       "    </tr>\n",
       "    <tr>\n",
       "      <th>2</th>\n",
       "      <td>100001</td>\n",
       "      <td>12/4/14</td>\n",
       "      <td>G</td>\n",
       "      <td>O</td>\n",
       "      <td>Y</td>\n",
       "      <td>1</td>\n",
       "      <td>8.676444</td>\n",
       "      <td>148.363704</td>\n",
       "      <td>38.87</td>\n",
       "      <td>3459.0</td>\n",
       "      <td>6.159659</td>\n",
       "      <td>2.0</td>\n",
       "      <td>24.733333</td>\n",
       "      <td>0</td>\n",
       "      <td>0.0</td>\n",
       "      <td>882</td>\n",
       "    </tr>\n",
       "    <tr>\n",
       "      <th>3</th>\n",
       "      <td>100001</td>\n",
       "      <td>12/5/14</td>\n",
       "      <td>G</td>\n",
       "      <td>O</td>\n",
       "      <td>Y</td>\n",
       "      <td>1</td>\n",
       "      <td>9.988338</td>\n",
       "      <td>133.660000</td>\n",
       "      <td>39.47</td>\n",
       "      <td>3513.0</td>\n",
       "      <td>9.320308</td>\n",
       "      <td>2.0</td>\n",
       "      <td>24.773077</td>\n",
       "      <td>0</td>\n",
       "      <td>0.0</td>\n",
       "      <td>883</td>\n",
       "    </tr>\n",
       "    <tr>\n",
       "      <th>4</th>\n",
       "      <td>100001</td>\n",
       "      <td>12/6/14</td>\n",
       "      <td>G</td>\n",
       "      <td>O</td>\n",
       "      <td>Y</td>\n",
       "      <td>1</td>\n",
       "      <td>8.475264</td>\n",
       "      <td>197.181600</td>\n",
       "      <td>40.33</td>\n",
       "      <td>3589.0</td>\n",
       "      <td>8.022960</td>\n",
       "      <td>1.5</td>\n",
       "      <td>24.808000</td>\n",
       "      <td>0</td>\n",
       "      <td>0.0</td>\n",
       "      <td>884</td>\n",
       "    </tr>\n",
       "  </tbody>\n",
       "</table>\n",
       "</div>"
      ],
      "text/plain": [
       "       ID     DATE REGION_CLUSTER MAINTENANCE_VENDOR MANUFACTURER  WELL_GROUP  \\\n",
       "0  100001  12/2/14              G                  O            Y           1   \n",
       "1  100001  12/3/14              G                  O            Y           1   \n",
       "2  100001  12/4/14              G                  O            Y           1   \n",
       "3  100001  12/5/14              G                  O            Y           1   \n",
       "4  100001  12/6/14              G                  O            Y           1   \n",
       "\n",
       "         S15         S17    S13      S5       S16  S19        S18  \\\n",
       "0  11.088000  145.223448  39.34  3501.0  8.426869  1.9  24.610345   \n",
       "1   8.877943  187.573214  39.20  3489.0  6.483714  1.9  24.671429   \n",
       "2   8.676444  148.363704  38.87  3459.0  6.159659  2.0  24.733333   \n",
       "3   9.988338  133.660000  39.47  3513.0  9.320308  2.0  24.773077   \n",
       "4   8.475264  197.181600  40.33  3589.0  8.022960  1.5  24.808000   \n",
       "\n",
       "   EQUIPMENT_FAILURE   S8  AGE_OF_EQUIPMENT  \n",
       "0                  0  0.0               880  \n",
       "1                  0  0.0               881  \n",
       "2                  0  0.0               882  \n",
       "3                  0  0.0               883  \n",
       "4                  0  0.0               884  "
      ]
     },
     "execution_count": 4,
     "metadata": {},
     "output_type": "execute_result"
    }
   ],
   "source": [
    "data.head()"
   ]
  },
  {
   "cell_type": "code",
   "execution_count": 5,
   "id": "5837f2e6",
   "metadata": {},
   "outputs": [
    {
     "name": "stdout",
     "output_type": "stream",
     "text": [
      "<class 'pandas.core.frame.DataFrame'>\n",
      "RangeIndex: 149855 entries, 0 to 149854\n",
      "Data columns (total 16 columns):\n",
      " #   Column              Non-Null Count   Dtype  \n",
      "---  ------              --------------   -----  \n",
      " 0   ID                  149855 non-null  int64  \n",
      " 1   DATE                149855 non-null  object \n",
      " 2   REGION_CLUSTER      149855 non-null  object \n",
      " 3   MAINTENANCE_VENDOR  149855 non-null  object \n",
      " 4   MANUFACTURER        149855 non-null  object \n",
      " 5   WELL_GROUP          149855 non-null  int64  \n",
      " 6   S15                 149855 non-null  float64\n",
      " 7   S17                 149855 non-null  float64\n",
      " 8   S13                 149855 non-null  float64\n",
      " 9   S5                  149855 non-null  float64\n",
      " 10  S16                 149855 non-null  float64\n",
      " 11  S19                 149855 non-null  float64\n",
      " 12  S18                 149855 non-null  float64\n",
      " 13  EQUIPMENT_FAILURE   149855 non-null  int64  \n",
      " 14  S8                  149855 non-null  float64\n",
      " 15  AGE_OF_EQUIPMENT    149855 non-null  int64  \n",
      "dtypes: float64(8), int64(4), object(4)\n",
      "memory usage: 18.3+ MB\n"
     ]
    }
   ],
   "source": [
    "data.info()"
   ]
  },
  {
   "cell_type": "code",
   "execution_count": 6,
   "id": "71b31c43",
   "metadata": {},
   "outputs": [
    {
     "data": {
      "text/html": [
       "<div>\n",
       "<style scoped>\n",
       "    .dataframe tbody tr th:only-of-type {\n",
       "        vertical-align: middle;\n",
       "    }\n",
       "\n",
       "    .dataframe tbody tr th {\n",
       "        vertical-align: top;\n",
       "    }\n",
       "\n",
       "    .dataframe thead th {\n",
       "        text-align: right;\n",
       "    }\n",
       "</style>\n",
       "<table border=\"1\" class=\"dataframe\">\n",
       "  <thead>\n",
       "    <tr style=\"text-align: right;\">\n",
       "      <th></th>\n",
       "      <th>ID</th>\n",
       "      <th>WELL_GROUP</th>\n",
       "      <th>S15</th>\n",
       "      <th>S17</th>\n",
       "      <th>S13</th>\n",
       "      <th>S5</th>\n",
       "      <th>S16</th>\n",
       "      <th>S19</th>\n",
       "      <th>S18</th>\n",
       "      <th>EQUIPMENT_FAILURE</th>\n",
       "      <th>S8</th>\n",
       "      <th>AGE_OF_EQUIPMENT</th>\n",
       "    </tr>\n",
       "  </thead>\n",
       "  <tbody>\n",
       "    <tr>\n",
       "      <th>count</th>\n",
       "      <td>149855.000000</td>\n",
       "      <td>149855.000000</td>\n",
       "      <td>149855.000000</td>\n",
       "      <td>149855.000000</td>\n",
       "      <td>149855.000000</td>\n",
       "      <td>149855.000000</td>\n",
       "      <td>149855.000000</td>\n",
       "      <td>149855.000000</td>\n",
       "      <td>149855.000000</td>\n",
       "      <td>149855.000000</td>\n",
       "      <td>149855.000000</td>\n",
       "      <td>149855.000000</td>\n",
       "    </tr>\n",
       "    <tr>\n",
       "      <th>mean</th>\n",
       "      <td>100320.419512</td>\n",
       "      <td>2.497561</td>\n",
       "      <td>14.185534</td>\n",
       "      <td>85.918460</td>\n",
       "      <td>35.643733</td>\n",
       "      <td>4557.518000</td>\n",
       "      <td>7.925408</td>\n",
       "      <td>8.229842</td>\n",
       "      <td>110.082879</td>\n",
       "      <td>0.001368</td>\n",
       "      <td>117.481750</td>\n",
       "      <td>2751.146341</td>\n",
       "    </tr>\n",
       "    <tr>\n",
       "      <th>std</th>\n",
       "      <td>178.503502</td>\n",
       "      <td>1.093775</td>\n",
       "      <td>8.665254</td>\n",
       "      <td>85.572229</td>\n",
       "      <td>14.723678</td>\n",
       "      <td>2497.993986</td>\n",
       "      <td>2.426462</td>\n",
       "      <td>13.041714</td>\n",
       "      <td>197.356230</td>\n",
       "      <td>0.036961</td>\n",
       "      <td>204.107481</td>\n",
       "      <td>3368.354905</td>\n",
       "    </tr>\n",
       "    <tr>\n",
       "      <th>min</th>\n",
       "      <td>100001.000000</td>\n",
       "      <td>1.000000</td>\n",
       "      <td>0.000000</td>\n",
       "      <td>0.000000</td>\n",
       "      <td>0.000000</td>\n",
       "      <td>0.000000</td>\n",
       "      <td>0.000000</td>\n",
       "      <td>0.000000</td>\n",
       "      <td>0.000000</td>\n",
       "      <td>0.000000</td>\n",
       "      <td>-16.490000</td>\n",
       "      <td>0.000000</td>\n",
       "    </tr>\n",
       "    <tr>\n",
       "      <th>25%</th>\n",
       "      <td>100164.000000</td>\n",
       "      <td>2.000000</td>\n",
       "      <td>7.548000</td>\n",
       "      <td>0.000000</td>\n",
       "      <td>28.250000</td>\n",
       "      <td>3193.000000</td>\n",
       "      <td>6.596000</td>\n",
       "      <td>0.900000</td>\n",
       "      <td>11.300000</td>\n",
       "      <td>0.000000</td>\n",
       "      <td>8.660000</td>\n",
       "      <td>755.000000</td>\n",
       "    </tr>\n",
       "    <tr>\n",
       "      <th>50%</th>\n",
       "      <td>100328.000000</td>\n",
       "      <td>2.000000</td>\n",
       "      <td>11.077500</td>\n",
       "      <td>95.480000</td>\n",
       "      <td>35.020000</td>\n",
       "      <td>4224.000000</td>\n",
       "      <td>8.025600</td>\n",
       "      <td>4.200000</td>\n",
       "      <td>34.000000</td>\n",
       "      <td>0.000000</td>\n",
       "      <td>44.320000</td>\n",
       "      <td>1143.000000</td>\n",
       "    </tr>\n",
       "    <tr>\n",
       "      <th>75%</th>\n",
       "      <td>100472.000000</td>\n",
       "      <td>3.000000</td>\n",
       "      <td>22.080000</td>\n",
       "      <td>163.660000</td>\n",
       "      <td>41.940833</td>\n",
       "      <td>5615.000000</td>\n",
       "      <td>9.480700</td>\n",
       "      <td>10.500000</td>\n",
       "      <td>118.900000</td>\n",
       "      <td>0.000000</td>\n",
       "      <td>135.080000</td>\n",
       "      <td>3224.500000</td>\n",
       "    </tr>\n",
       "    <tr>\n",
       "      <th>max</th>\n",
       "      <td>100612.000000</td>\n",
       "      <td>4.000000</td>\n",
       "      <td>51.225600</td>\n",
       "      <td>478.470000</td>\n",
       "      <td>570.510000</td>\n",
       "      <td>52767.000000</td>\n",
       "      <td>23.533800</td>\n",
       "      <td>291.100000</td>\n",
       "      <td>3995.900000</td>\n",
       "      <td>1.000000</td>\n",
       "      <td>1824.960000</td>\n",
       "      <td>15170.000000</td>\n",
       "    </tr>\n",
       "  </tbody>\n",
       "</table>\n",
       "</div>"
      ],
      "text/plain": [
       "                  ID     WELL_GROUP            S15            S17  \\\n",
       "count  149855.000000  149855.000000  149855.000000  149855.000000   \n",
       "mean   100320.419512       2.497561      14.185534      85.918460   \n",
       "std       178.503502       1.093775       8.665254      85.572229   \n",
       "min    100001.000000       1.000000       0.000000       0.000000   \n",
       "25%    100164.000000       2.000000       7.548000       0.000000   \n",
       "50%    100328.000000       2.000000      11.077500      95.480000   \n",
       "75%    100472.000000       3.000000      22.080000     163.660000   \n",
       "max    100612.000000       4.000000      51.225600     478.470000   \n",
       "\n",
       "                 S13             S5            S16            S19  \\\n",
       "count  149855.000000  149855.000000  149855.000000  149855.000000   \n",
       "mean       35.643733    4557.518000       7.925408       8.229842   \n",
       "std        14.723678    2497.993986       2.426462      13.041714   \n",
       "min         0.000000       0.000000       0.000000       0.000000   \n",
       "25%        28.250000    3193.000000       6.596000       0.900000   \n",
       "50%        35.020000    4224.000000       8.025600       4.200000   \n",
       "75%        41.940833    5615.000000       9.480700      10.500000   \n",
       "max       570.510000   52767.000000      23.533800     291.100000   \n",
       "\n",
       "                 S18  EQUIPMENT_FAILURE             S8  AGE_OF_EQUIPMENT  \n",
       "count  149855.000000      149855.000000  149855.000000     149855.000000  \n",
       "mean      110.082879           0.001368     117.481750       2751.146341  \n",
       "std       197.356230           0.036961     204.107481       3368.354905  \n",
       "min         0.000000           0.000000     -16.490000          0.000000  \n",
       "25%        11.300000           0.000000       8.660000        755.000000  \n",
       "50%        34.000000           0.000000      44.320000       1143.000000  \n",
       "75%       118.900000           0.000000     135.080000       3224.500000  \n",
       "max      3995.900000           1.000000    1824.960000      15170.000000  "
      ]
     },
     "execution_count": 6,
     "metadata": {},
     "output_type": "execute_result"
    }
   ],
   "source": [
    "data.describe()"
   ]
  },
  {
   "cell_type": "code",
   "execution_count": 7,
   "id": "c5de1f64",
   "metadata": {},
   "outputs": [
    {
     "data": {
      "text/plain": [
       "ID                    0\n",
       "DATE                  0\n",
       "REGION_CLUSTER        0\n",
       "MAINTENANCE_VENDOR    0\n",
       "MANUFACTURER          0\n",
       "WELL_GROUP            0\n",
       "S15                   0\n",
       "S17                   0\n",
       "S13                   0\n",
       "S5                    0\n",
       "S16                   0\n",
       "S19                   0\n",
       "S18                   0\n",
       "EQUIPMENT_FAILURE     0\n",
       "S8                    0\n",
       "AGE_OF_EQUIPMENT      0\n",
       "dtype: int64"
      ]
     },
     "execution_count": 7,
     "metadata": {},
     "output_type": "execute_result"
    }
   ],
   "source": [
    "# check for missing data\n",
    "data.isnull().sum(axis = 0)"
   ]
  },
  {
   "cell_type": "code",
   "execution_count": 8,
   "id": "2efca8d2",
   "metadata": {},
   "outputs": [
    {
     "data": {
      "text/plain": [
       "0"
      ]
     },
     "execution_count": 8,
     "metadata": {},
     "output_type": "execute_result"
    }
   ],
   "source": [
    "# check for duplicates \n",
    "len(data)-len(data.drop_duplicates())"
   ]
  },
  {
   "cell_type": "code",
   "execution_count": 9,
   "id": "65a3fa83",
   "metadata": {
    "scrolled": true
   },
   "outputs": [
    {
     "data": {
      "text/plain": [
       "0    149650\n",
       "1       205\n",
       "Name: EQUIPMENT_FAILURE, dtype: int64"
      ]
     },
     "execution_count": 9,
     "metadata": {},
     "output_type": "execute_result"
    }
   ],
   "source": [
    "# check for number failures (=205)\n",
    "data['EQUIPMENT_FAILURE'].value_counts()"
   ]
  },
  {
   "cell_type": "code",
   "execution_count": 10,
   "id": "7718f3a0",
   "metadata": {},
   "outputs": [
    {
     "name": "stdout",
     "output_type": "stream",
     "text": [
      "percentage failed:  0.136986301369863\n",
      "percentage not failed:  99.86301369863013\n"
     ]
    }
   ],
   "source": [
    "print(\"percentage failed: \", (205/149650)*100)\n",
    "print(\"percentage not failed: \", ((149650-205)/149650)*100)"
   ]
  },
  {
   "cell_type": "code",
   "execution_count": 11,
   "id": "d1ebd7b9",
   "metadata": {
    "scrolled": true
   },
   "outputs": [
    {
     "data": {
      "text/plain": [
       "100001    731\n",
       "100443    731\n",
       "100419    731\n",
       "100423    731\n",
       "100425    731\n",
       "         ... \n",
       "100237    731\n",
       "100240    731\n",
       "100241    731\n",
       "100244    731\n",
       "100612    731\n",
       "Name: ID, Length: 205, dtype: int64"
      ]
     },
     "execution_count": 11,
     "metadata": {},
     "output_type": "execute_result"
    }
   ],
   "source": [
    "# check number of different machines (=205)\n",
    "data['ID'].value_counts()"
   ]
  },
  {
   "cell_type": "code",
   "execution_count": 12,
   "id": "e75a3191",
   "metadata": {
    "scrolled": true
   },
   "outputs": [
    {
     "data": {
      "text/plain": [
       "12/2/14    205\n",
       "3/26/16    205\n",
       "3/28/16    205\n",
       "3/29/16    205\n",
       "3/30/16    205\n",
       "          ... \n",
       "8/4/15     205\n",
       "8/5/15     205\n",
       "8/6/15     205\n",
       "8/7/15     205\n",
       "12/1/16    205\n",
       "Name: DATE, Length: 731, dtype: int64"
      ]
     },
     "execution_count": 12,
     "metadata": {},
     "output_type": "execute_result"
    }
   ],
   "source": [
    "# check number of different dates (=731)\n",
    "data['DATE'].value_counts()"
   ]
  },
  {
   "cell_type": "code",
   "execution_count": 13,
   "id": "01933892",
   "metadata": {},
   "outputs": [
    {
     "data": {
      "text/plain": [
       "<AxesSubplot:>"
      ]
     },
     "execution_count": 13,
     "metadata": {},
     "output_type": "execute_result"
    },
    {
     "data": {
      "image/png": "[encoded data removed]",
      "text/plain": [
       "<Figure size 1152x360 with 2 Axes>"
      ]
     },
     "metadata": {
      "needs_background": "light"
     },
     "output_type": "display_data"
    }
   ],
   "source": [
    "# Correlation between different variables\n",
    "plt.figure(figsize = (16,5))\n",
    "sns.heatmap(data.corr(method='pearson'),cmap='coolwarm',annot=True)"
   ]
  },
  {
   "cell_type": "code",
   "execution_count": 14,
   "id": "c318155c",
   "metadata": {},
   "outputs": [
    {
     "data": {
      "text/plain": [
       "ID                  -1.002965e-15\n",
       "WELL_GROUP           1.755806e-17\n",
       "S15                 -5.997746e-02\n",
       "S17                 -3.673575e-02\n",
       "S13                 -5.387080e-03\n",
       "S5                  -4.194914e-03\n",
       "S16                 -8.667327e-03\n",
       "S19                 -8.325554e-03\n",
       "S18                  1.283648e-02\n",
       "EQUIPMENT_FAILURE    1.000000e+00\n",
       "S8                   7.830244e-03\n",
       "AGE_OF_EQUIPMENT     4.989128e-04\n",
       "Name: EQUIPMENT_FAILURE, dtype: float64"
      ]
     },
     "execution_count": 14,
     "metadata": {},
     "output_type": "execute_result"
    }
   ],
   "source": [
    "# Correlation between different dependent and independent variables\n",
    "data.corr()['EQUIPMENT_FAILURE']"
   ]
  },
  {
   "cell_type": "code",
   "execution_count": 15,
   "id": "a02c75e5",
   "metadata": {},
   "outputs": [
    {
     "data": {
      "text/html": [
       "<div>\n",
       "<style scoped>\n",
       "    .dataframe tbody tr th:only-of-type {\n",
       "        vertical-align: middle;\n",
       "    }\n",
       "\n",
       "    .dataframe tbody tr th {\n",
       "        vertical-align: top;\n",
       "    }\n",
       "\n",
       "    .dataframe thead th {\n",
       "        text-align: right;\n",
       "    }\n",
       "</style>\n",
       "<table border=\"1\" class=\"dataframe\">\n",
       "  <thead>\n",
       "    <tr style=\"text-align: right;\">\n",
       "      <th></th>\n",
       "      <th>ID</th>\n",
       "      <th>DATE</th>\n",
       "      <th>REGION_CLUSTER</th>\n",
       "      <th>MAINTENANCE_VENDOR</th>\n",
       "      <th>MANUFACTURER</th>\n",
       "      <th>WELL_GROUP</th>\n",
       "      <th>S15</th>\n",
       "      <th>S17</th>\n",
       "      <th>S13</th>\n",
       "      <th>S5</th>\n",
       "      <th>S16</th>\n",
       "      <th>S19</th>\n",
       "      <th>S18</th>\n",
       "      <th>EQUIPMENT_FAILURE</th>\n",
       "      <th>S8</th>\n",
       "      <th>AGE_OF_EQUIPMENT</th>\n",
       "    </tr>\n",
       "  </thead>\n",
       "  <tbody>\n",
       "    <tr>\n",
       "      <th>143</th>\n",
       "      <td>100001</td>\n",
       "      <td>4/24/15</td>\n",
       "      <td>G</td>\n",
       "      <td>O</td>\n",
       "      <td>Y</td>\n",
       "      <td>1</td>\n",
       "      <td>0.0</td>\n",
       "      <td>0.0</td>\n",
       "      <td>0.000000</td>\n",
       "      <td>0.000000</td>\n",
       "      <td>8.8924</td>\n",
       "      <td>0.90</td>\n",
       "      <td>170.4</td>\n",
       "      <td>1</td>\n",
       "      <td>0.000000</td>\n",
       "      <td>1023</td>\n",
       "    </tr>\n",
       "    <tr>\n",
       "      <th>1452</th>\n",
       "      <td>100003</td>\n",
       "      <td>11/22/16</td>\n",
       "      <td>C</td>\n",
       "      <td>L</td>\n",
       "      <td>T</td>\n",
       "      <td>1</td>\n",
       "      <td>0.0</td>\n",
       "      <td>0.0</td>\n",
       "      <td>0.000000</td>\n",
       "      <td>0.000000</td>\n",
       "      <td>8.7048</td>\n",
       "      <td>0.00</td>\n",
       "      <td>4.4</td>\n",
       "      <td>1</td>\n",
       "      <td>0.000000</td>\n",
       "      <td>1121</td>\n",
       "    </tr>\n",
       "    <tr>\n",
       "      <th>1974</th>\n",
       "      <td>100009</td>\n",
       "      <td>4/27/16</td>\n",
       "      <td>H</td>\n",
       "      <td>M</td>\n",
       "      <td>X</td>\n",
       "      <td>3</td>\n",
       "      <td>0.0</td>\n",
       "      <td>0.0</td>\n",
       "      <td>23.614483</td>\n",
       "      <td>7202.413793</td>\n",
       "      <td>3.2824</td>\n",
       "      <td>42.70</td>\n",
       "      <td>57.1</td>\n",
       "      <td>1</td>\n",
       "      <td>89.084138</td>\n",
       "      <td>832</td>\n",
       "    </tr>\n",
       "    <tr>\n",
       "      <th>2882</th>\n",
       "      <td>100014</td>\n",
       "      <td>10/21/16</td>\n",
       "      <td>H</td>\n",
       "      <td>M</td>\n",
       "      <td>S</td>\n",
       "      <td>2</td>\n",
       "      <td>0.0</td>\n",
       "      <td>0.0</td>\n",
       "      <td>24.680690</td>\n",
       "      <td>5257.103448</td>\n",
       "      <td>3.7310</td>\n",
       "      <td>25.50</td>\n",
       "      <td>43.1</td>\n",
       "      <td>1</td>\n",
       "      <td>45.019310</td>\n",
       "      <td>1449</td>\n",
       "    </tr>\n",
       "    <tr>\n",
       "      <th>2940</th>\n",
       "      <td>100017</td>\n",
       "      <td>12/18/14</td>\n",
       "      <td>E</td>\n",
       "      <td>K</td>\n",
       "      <td>T</td>\n",
       "      <td>2</td>\n",
       "      <td>0.0</td>\n",
       "      <td>0.0</td>\n",
       "      <td>29.906154</td>\n",
       "      <td>5233.307692</td>\n",
       "      <td>8.4132</td>\n",
       "      <td>0.10</td>\n",
       "      <td>678.0</td>\n",
       "      <td>1</td>\n",
       "      <td>1.092308</td>\n",
       "      <td>9996</td>\n",
       "    </tr>\n",
       "    <tr>\n",
       "      <th>...</th>\n",
       "      <td>...</td>\n",
       "      <td>...</td>\n",
       "      <td>...</td>\n",
       "      <td>...</td>\n",
       "      <td>...</td>\n",
       "      <td>...</td>\n",
       "      <td>...</td>\n",
       "      <td>...</td>\n",
       "      <td>...</td>\n",
       "      <td>...</td>\n",
       "      <td>...</td>\n",
       "      <td>...</td>\n",
       "      <td>...</td>\n",
       "      <td>...</td>\n",
       "      <td>...</td>\n",
       "      <td>...</td>\n",
       "    </tr>\n",
       "    <tr>\n",
       "      <th>146442</th>\n",
       "      <td>100599</td>\n",
       "      <td>8/1/15</td>\n",
       "      <td>H</td>\n",
       "      <td>K</td>\n",
       "      <td>R</td>\n",
       "      <td>1</td>\n",
       "      <td>0.0</td>\n",
       "      <td>0.0</td>\n",
       "      <td>24.995862</td>\n",
       "      <td>7623.862069</td>\n",
       "      <td>4.6543</td>\n",
       "      <td>12.63</td>\n",
       "      <td>341.2</td>\n",
       "      <td>1</td>\n",
       "      <td>357.989655</td>\n",
       "      <td>802</td>\n",
       "    </tr>\n",
       "    <tr>\n",
       "      <th>146961</th>\n",
       "      <td>100600</td>\n",
       "      <td>1/1/15</td>\n",
       "      <td>D</td>\n",
       "      <td>J</td>\n",
       "      <td>V</td>\n",
       "      <td>1</td>\n",
       "      <td>0.0</td>\n",
       "      <td>0.0</td>\n",
       "      <td>35.679130</td>\n",
       "      <td>4245.739130</td>\n",
       "      <td>6.8880</td>\n",
       "      <td>14.80</td>\n",
       "      <td>423.0</td>\n",
       "      <td>1</td>\n",
       "      <td>0.000000</td>\n",
       "      <td>1730</td>\n",
       "    </tr>\n",
       "    <tr>\n",
       "      <th>148128</th>\n",
       "      <td>100610</td>\n",
       "      <td>3/12/16</td>\n",
       "      <td>E</td>\n",
       "      <td>P</td>\n",
       "      <td>Z</td>\n",
       "      <td>4</td>\n",
       "      <td>0.0</td>\n",
       "      <td>0.0</td>\n",
       "      <td>44.325217</td>\n",
       "      <td>13519.347830</td>\n",
       "      <td>6.1952</td>\n",
       "      <td>0.90</td>\n",
       "      <td>1078.9</td>\n",
       "      <td>1</td>\n",
       "      <td>1128.495652</td>\n",
       "      <td>906</td>\n",
       "    </tr>\n",
       "    <tr>\n",
       "      <th>148921</th>\n",
       "      <td>100611</td>\n",
       "      <td>5/13/16</td>\n",
       "      <td>B</td>\n",
       "      <td>O</td>\n",
       "      <td>W</td>\n",
       "      <td>3</td>\n",
       "      <td>0.0</td>\n",
       "      <td>0.0</td>\n",
       "      <td>31.100000</td>\n",
       "      <td>6624.000000</td>\n",
       "      <td>6.2475</td>\n",
       "      <td>0.00</td>\n",
       "      <td>780.7</td>\n",
       "      <td>1</td>\n",
       "      <td>878.300000</td>\n",
       "      <td>3808</td>\n",
       "    </tr>\n",
       "    <tr>\n",
       "      <th>149770</th>\n",
       "      <td>100612</td>\n",
       "      <td>9/8/16</td>\n",
       "      <td>H</td>\n",
       "      <td>O</td>\n",
       "      <td>V</td>\n",
       "      <td>4</td>\n",
       "      <td>0.0</td>\n",
       "      <td>0.0</td>\n",
       "      <td>26.137143</td>\n",
       "      <td>7972.035714</td>\n",
       "      <td>3.1902</td>\n",
       "      <td>20.40</td>\n",
       "      <td>571.0</td>\n",
       "      <td>1</td>\n",
       "      <td>314.027500</td>\n",
       "      <td>1006</td>\n",
       "    </tr>\n",
       "  </tbody>\n",
       "</table>\n",
       "<p>205 rows × 16 columns</p>\n",
       "</div>"
      ],
      "text/plain": [
       "            ID      DATE REGION_CLUSTER MAINTENANCE_VENDOR MANUFACTURER  \\\n",
       "143     100001   4/24/15              G                  O            Y   \n",
       "1452    100003  11/22/16              C                  L            T   \n",
       "1974    100009   4/27/16              H                  M            X   \n",
       "2882    100014  10/21/16              H                  M            S   \n",
       "2940    100017  12/18/14              E                  K            T   \n",
       "...        ...       ...            ...                ...          ...   \n",
       "146442  100599    8/1/15              H                  K            R   \n",
       "146961  100600    1/1/15              D                  J            V   \n",
       "148128  100610   3/12/16              E                  P            Z   \n",
       "148921  100611   5/13/16              B                  O            W   \n",
       "149770  100612    9/8/16              H                  O            V   \n",
       "\n",
       "        WELL_GROUP  S15  S17        S13            S5     S16    S19     S18  \\\n",
       "143              1  0.0  0.0   0.000000      0.000000  8.8924   0.90   170.4   \n",
       "1452             1  0.0  0.0   0.000000      0.000000  8.7048   0.00     4.4   \n",
       "1974             3  0.0  0.0  23.614483   7202.413793  3.2824  42.70    57.1   \n",
       "2882             2  0.0  0.0  24.680690   5257.103448  3.7310  25.50    43.1   \n",
       "2940             2  0.0  0.0  29.906154   5233.307692  8.4132   0.10   678.0   \n",
       "...            ...  ...  ...        ...           ...     ...    ...     ...   \n",
       "146442           1  0.0  0.0  24.995862   7623.862069  4.6543  12.63   341.2   \n",
       "146961           1  0.0  0.0  35.679130   4245.739130  6.8880  14.80   423.0   \n",
       "148128           4  0.0  0.0  44.325217  13519.347830  6.1952   0.90  1078.9   \n",
       "148921           3  0.0  0.0  31.100000   6624.000000  6.2475   0.00   780.7   \n",
       "149770           4  0.0  0.0  26.137143   7972.035714  3.1902  20.40   571.0   \n",
       "\n",
       "        EQUIPMENT_FAILURE           S8  AGE_OF_EQUIPMENT  \n",
       "143                     1     0.000000              1023  \n",
       "1452                    1     0.000000              1121  \n",
       "1974                    1    89.084138               832  \n",
       "2882                    1    45.019310              1449  \n",
       "2940                    1     1.092308              9996  \n",
       "...                   ...          ...               ...  \n",
       "146442                  1   357.989655               802  \n",
       "146961                  1     0.000000              1730  \n",
       "148128                  1  1128.495652               906  \n",
       "148921                  1   878.300000              3808  \n",
       "149770                  1   314.027500              1006  \n",
       "\n",
       "[205 rows x 16 columns]"
      ]
     },
     "execution_count": 15,
     "metadata": {},
     "output_type": "execute_result"
    }
   ],
   "source": [
    "# given to small number of failures, we will visualize relations only \n",
    "failed_data = data[data['EQUIPMENT_FAILURE'] == 1]\n",
    "failed_data"
   ]
  },
  {
   "cell_type": "code",
   "execution_count": 16,
   "id": "3c8b4b9d",
   "metadata": {},
   "outputs": [
    {
     "data": {
      "text/plain": [
       "<AxesSubplot:xlabel='MAINTENANCE_VENDOR', ylabel='Count'>"
      ]
     },
     "execution_count": 16,
     "metadata": {},
     "output_type": "execute_result"
    },
    {
     "data": {
      "image/png": "[encoded data removed]",
      "text/plain": [
       "<Figure size 432x288 with 1 Axes>"
      ]
     },
     "metadata": {
      "needs_background": "light"
     },
     "output_type": "display_data"
    }
   ],
   "source": [
    "sns.histplot(failed_data, x='MAINTENANCE_VENDOR')"
   ]
  },
  {
   "cell_type": "code",
   "execution_count": 17,
   "id": "2dfcc47d",
   "metadata": {
    "scrolled": true
   },
   "outputs": [
    {
     "data": {
      "text/plain": [
       "M    24123\n",
       "O    21930\n",
       "J    21930\n",
       "K    19737\n",
       "P    19737\n",
       "N    17544\n",
       "I    14620\n",
       "L    10234\n",
       "Name: MAINTENANCE_VENDOR, dtype: int64"
      ]
     },
     "execution_count": 17,
     "metadata": {},
     "output_type": "execute_result"
    }
   ],
   "source": [
    "data['MAINTENANCE_VENDOR'].value_counts()"
   ]
  },
  {
   "cell_type": "code",
   "execution_count": 18,
   "id": "7e0f218a",
   "metadata": {
    "scrolled": true
   },
   "outputs": [
    {
     "data": {
      "text/plain": [
       "M    33\n",
       "O    30\n",
       "J    30\n",
       "K    27\n",
       "P    27\n",
       "N    24\n",
       "I    20\n",
       "L    14\n",
       "Name: MAINTENANCE_VENDOR, dtype: int64"
      ]
     },
     "execution_count": 18,
     "metadata": {},
     "output_type": "execute_result"
    }
   ],
   "source": [
    "failed_data['MAINTENANCE_VENDOR'].value_counts()"
   ]
  },
  {
   "cell_type": "code",
   "execution_count": 19,
   "id": "f767feb0",
   "metadata": {},
   "outputs": [
    {
     "data": {
      "text/plain": [
       "M    0.001368\n",
       "O    0.001368\n",
       "J    0.001368\n",
       "K    0.001368\n",
       "P    0.001368\n",
       "N    0.001368\n",
       "I    0.001368\n",
       "L    0.001368\n",
       "Name: MAINTENANCE_VENDOR, dtype: float64"
      ]
     },
     "execution_count": 19,
     "metadata": {},
     "output_type": "execute_result"
    }
   ],
   "source": [
    "failed_data['MAINTENANCE_VENDOR'].value_counts() / data['MAINTENANCE_VENDOR'].value_counts()"
   ]
  },
  {
   "cell_type": "markdown",
   "id": "b6cef325",
   "metadata": {},
   "source": [
    "## Feature Engineering"
   ]
  },
  {
   "cell_type": "code",
   "execution_count": null,
   "id": "2a5b4bd5",
   "metadata": {
    "scrolled": true
   },
   "outputs": [],
   "source": [
    "data['DATE'] = pd.to_datetime(data['DATE'])\n",
    "data.head()"
   ]
  },
  {
   "cell_type": "code",
   "execution_count": null,
   "id": "3cf2d9a6",
   "metadata": {
    "scrolled": true
   },
   "outputs": [],
   "source": [
    "# sort data based on ID and date\n",
    "data = data.sort_values(by=['ID','DATE'], ascending=[True, True])\n",
    "\n",
    "# create a new column called “switch” that indicates when the id changes\n",
    "data['switch'] = np.where((data['ID'] != data['ID'].shift(1)), 1, 0)\n",
    "data.head()"
   ]
  },
  {
   "cell_type": "code",
   "execution_count": null,
   "id": "7ffdfe50",
   "metadata": {},
   "outputs": [],
   "source": [
    "# define a time window which is the number of days we will look backward into a time series of sensor values.\n",
    "feature_window=21\n",
    "\n",
    "dfx = data\n",
    "\n",
    "# select the first record of each machine\n",
    "starter = dfx[dfx['switch'] == 1]\n",
    "starter = starter[['DATE','ID']]\n",
    "\n",
    "#rename date to start_date\n",
    "starter = starter.rename(index=str, columns={\"DATE\": \"START_DATE\"})\n",
    "\n",
    "# Merge START_DATE to the original data set\n",
    "dfx =dfx.merge(starter, on=['ID'], how='left')\n",
    "\n",
    "# calculate the number of days since the beginning of each well. \n",
    "dfx['C'] = dfx['DATE'] - dfx['START_DATE']\n",
    "dfx['TIME_SINCE_START'] = dfx['C'] / np.timedelta64(1, 'D')\n",
    "dfx=dfx.drop(columns=['C'])\n",
    "dfx['too_soon'] = np.where((dfx['TIME_SINCE_START'] < feature_window) , 1, 0)\n",
    "dfx"
   ]
  },
  {
   "cell_type": "code",
   "execution_count": null,
   "id": "e5bbfbb2",
   "metadata": {},
   "outputs": [],
   "source": [
    "sensors = ['S15','S17','S13', 'S5', 'S16', 'S19', 'S18', 'S8']"
   ]
  },
  {
   "cell_type": "code",
   "execution_count": null,
   "id": "53a615a5",
   "metadata": {},
   "outputs": [],
   "source": [
    "# running average for a certain time window\n",
    "for sensor in sensors:\n",
    "    for x in range(1, (feature_window+1)):\n",
    "        namer=sensor+'_'+'mean'\n",
    "        dfx[namer] = np.where((dfx['too_soon'] == 0),(dfx[sensor].rolling(min_periods=1, window=feature_window).mean()) , dfx[sensor])"
   ]
  },
  {
   "cell_type": "code",
   "execution_count": null,
   "id": "8761a69e",
   "metadata": {},
   "outputs": [],
   "source": [
    "# running median for a certain time window\n",
    "for sensor in sensors:\n",
    "    for x in range(1, (feature_window+1)):\n",
    "        namer=sensor+'_'+'median'\n",
    "        dfx[namer] = np.where((dfx['too_soon'] == 0),(dfx[sensor].rolling(min_periods=1, window=feature_window).median()) , dfx[sensor])"
   ]
  },
  {
   "cell_type": "code",
   "execution_count": null,
   "id": "4cf2e752",
   "metadata": {
    "scrolled": true
   },
   "outputs": [],
   "source": [
    "# running maximum for a certain time window\n",
    "for sensor in sensors:\n",
    "    for x in range(1, (feature_window+1)):\n",
    "        namer=sensor+'_'+'max'\n",
    "        dfx[namer] = np.where((dfx['too_soon'] == 0),(dfx[sensor].rolling(min_periods=1, window=feature_window).max()) , dfx[sensor])"
   ]
  },
  {
   "cell_type": "code",
   "execution_count": null,
   "id": "7cfee07f",
   "metadata": {},
   "outputs": [],
   "source": [
    "# running minimum for a certain time window\n",
    "for sensor in sensors:\n",
    "    for x in range(1, (feature_window+1)):\n",
    "        namer=sensor+'_'+'min'\n",
    "        dfx[namer] = np.where((dfx['too_soon'] == 0),(dfx[sensor].rolling(min_periods=1, window=feature_window).min()) , dfx[sensor])"
   ]
  },
  {
   "cell_type": "code",
   "execution_count": null,
   "id": "b1cac740",
   "metadata": {
    "scrolled": true
   },
   "outputs": [],
   "source": [
    "# indicate failed data\n",
    "failed_data['ID']"
   ]
  },
  {
   "cell_type": "code",
   "execution_count": null,
   "id": "99998d70",
   "metadata": {},
   "outputs": [],
   "source": [
    "d=dfx[dfx['ID']==100003]\n",
    "\n",
    "x1=d['DATE']\n",
    "y1=d['S15']\n",
    "y2=d['S15_mean']\n",
    "y3=d['S15_max']\n",
    "y4=d['S15_min']\n",
    "\n",
    "trace1 = go.Scatter(\n",
    "    x=x1,\n",
    "    y=y1,\n",
    "    name='S15'\n",
    ")\n",
    "trace2 = go.Scatter(\n",
    "    x=x1,\n",
    "    y=y2,\n",
    "    name='Day Mean'\n",
    ")\n",
    "trace3 = go.Scatter(\n",
    "    x=x1,\n",
    "    y=y4,\n",
    "    name='Day Min'\n",
    ")\n",
    "\n",
    "trace4 = go.Scatter(\n",
    "    x=x1,\n",
    "    y=y3,\n",
    "    name='Day Max'\n",
    ")\n",
    "trace5 = go.Scatter(\n",
    "    x=d[d['EQUIPMENT_FAILURE'] == 1]['DATE'],\n",
    "    y=d['S15'],\n",
    "    marker=dict(\n",
    "            color='Green',\n",
    "            size=10\n",
    "        ),\n",
    "    name='Failed'\n",
    ")\n",
    "\n",
    "data = [trace1,trace2,trace3,trace4, trace5]\n",
    "layout = go.Layout(\n",
    "    title='S15 and Summaries',\n",
    "    yaxis=dict(\n",
    "        title='S15'\n",
    "    ),\n",
    "        xaxis=dict(\n",
    "        title='Date',\n",
    "        titlefont=dict(\n",
    "            family='Courier New, monospace',\n",
    "            size=18,\n",
    "            color='#7f7f7f'\n",
    "        )\n",
    "))\n",
    "fig = go.Figure(data=data, layout=layout)\n",
    "plotly.offline.iplot(fig, filename='shapes-lines')"
   ]
  },
  {
   "cell_type": "code",
   "execution_count": null,
   "id": "e3c7705b",
   "metadata": {},
   "outputs": [],
   "source": [
    "d=dfx[dfx['ID']==100612]\n",
    "\n",
    "x1=d['DATE']\n",
    "y1=d['S15']\n",
    "y2=d['S15_mean']\n",
    "y3=d['S15_max']\n",
    "y4=d['S15_min']\n",
    "\n",
    "trace1 = go.Scatter(\n",
    "    x=x1,\n",
    "    y=y1,\n",
    "    name='S15'\n",
    ")\n",
    "trace2 = go.Scatter(\n",
    "    x=x1,\n",
    "    y=y2,\n",
    "    name='Day Mean'\n",
    ")\n",
    "trace3 = go.Scatter(\n",
    "    x=x1,\n",
    "    y=y4,\n",
    "    name='Day Min'\n",
    ")\n",
    "\n",
    "trace4 = go.Scatter(\n",
    "    x=x1,\n",
    "    y=y3,\n",
    "    name='Day Max'\n",
    ")\n",
    "trace3 = go.Scatter(\n",
    "    x=d[d['EQUIPMENT_FAILURE'] == 1]['DATE'],\n",
    "    y=d['S15'],\n",
    "    marker=dict(\n",
    "            color='Green',\n",
    "            size=10\n",
    "        ),\n",
    "    name='Failed'\n",
    ")\n",
    "\n",
    "data = [trace1,trace2,trace3,trace4,trace5]\n",
    "layout = go.Layout(\n",
    "    title='S15 and Summaries',\n",
    "    yaxis=dict(\n",
    "        title='S15'\n",
    "    ),\n",
    "        xaxis=dict(\n",
    "        title='Date',\n",
    "        titlefont=dict(\n",
    "            family='Courier New, monospace',\n",
    "            size=18,\n",
    "            color='#7f7f7f'\n",
    "        )\n",
    "))\n",
    "fig = go.Figure(data=data, layout=layout)\n",
    "plotly.offline.iplot(fig, filename='shapes-lines')"
   ]
  },
  {
   "cell_type": "code",
   "execution_count": null,
   "id": "d66e1070",
   "metadata": {},
   "outputs": [],
   "source": [
    "# find sudden spikes in sensor values\n",
    "dfx['S15_chg'] = np.where((dfx.S15_mean==0),0 , dfx.S15/dfx.S15_mean)\n",
    "dfx['S17_chg'] = np.where((dfx.S17_mean == 0),0 , dfx.S17/dfx.S17_mean)\n",
    "dfx['S13_chg'] = np.where((dfx.S13_mean == 0),0 , dfx.S13/dfx.S13_mean)\n",
    "dfx['S5_chg'] = np.where((dfx.S5_mean == 0),0 , dfx.S5/dfx.S5_mean)\n",
    "dfx['S16_chg'] = np.where((dfx.S16_mean == 0),0 , dfx.S16/dfx.S16_mean)\n",
    "dfx['S19_chg'] = np.where((dfx.S19_mean == 0),0 , dfx.S19/dfx.S19_mean)\n",
    "dfx['S18_chg'] = np.where((dfx.S18_mean == 0),0 , dfx.S18/dfx.S18_mean)\n",
    "dfx['S8_chg'] = np.where((dfx.S8_mean == 0),0 , dfx.S8/dfx.S8_mean)\n"
   ]
  },
  {
   "cell_type": "code",
   "execution_count": null,
   "id": "47fcd4a2",
   "metadata": {
    "scrolled": true
   },
   "outputs": [],
   "source": [
    "#copy the data set to a more convenient name \n",
    "data = dfx"
   ]
  },
  {
   "cell_type": "code",
   "execution_count": null,
   "id": "6978f277",
   "metadata": {},
   "outputs": [],
   "source": [
    "# convert the categorical variables into binary dummy variables.\n",
    "df_dv = pd.get_dummies(data['REGION_CLUSTER'])\n",
    "df_dv = df_dv.rename(columns={\"A\": \"CLUSTER_A\",\"B\":\"CLUSTER_B\",\"C\":\"CLUSTER_C\",\"D\":\"CLUSTER_D\",\"E\":\"CLUSTER_E\",\"F\":\"CLUSTER_F\",\"G\":\"CLUSTER_G\",\"H\":\"CLUSTER_H\"})\n",
    "data = pd.concat([data, df_dv], axis=1)\n",
    "\n",
    "df_dv = pd.get_dummies(data['MAINTENANCE_VENDOR'])\n",
    "df_dv = df_dv.rename(columns={\"I\": \"MV_I\",\"J\":\"MV_J\",\"K\":\"MV_K\",\"L\":\"MV_L\",\"M\":\"MV_M\",\"N\":\"MV_N\",\"O\":\"MV_O\",\"P\":\"MV_P\"})\n",
    "data = pd.concat([data, df_dv], axis=1)\n",
    "\n",
    "df_dv = pd.get_dummies(data['MANUFACTURER'])\n",
    "df_dv = df_dv.rename(columns={\"Q\": \"MN_Q\",\"R\":\"MN_R\",\"S\":\"MN_S\",\"T\":\"MN_T\",\"U\":\"MN_U\",\"V\":\"MN_V\",\"W\":\"MN_W\",\"X\":\"MN_X\",\"Y\":\"MN_Y\",\"Z\":\"MN_Z\"})\n",
    "data = pd.concat([data, df_dv], axis=1)\n",
    "\n",
    "df_dv = pd.get_dummies(data['WELL_GROUP'])\n",
    "df_dv = df_dv.rename(columns={1: \"WG_1\",2:\"WG_2\",3:\"WG_3\",4:\"WG_4\",5:\"WG_5\",6:\"WG_6\",7:\"WG_7\",8:\"WG_8\"})\n",
    "data = pd.concat([data, df_dv], axis=1)\n",
    "\n",
    "# Remove the newly redundant categorical variables.  This are now represented by dummy variables.\n",
    "data = data.drop(columns=['REGION_CLUSTER','MAINTENANCE_VENDOR','MANUFACTURER','WELL_GROUP'])"
   ]
  },
  {
   "cell_type": "code",
   "execution_count": null,
   "id": "9835803d",
   "metadata": {},
   "outputs": [],
   "source": [
    "data.head()"
   ]
  },
  {
   "cell_type": "code",
   "execution_count": null,
   "id": "ed7a9480",
   "metadata": {},
   "outputs": [],
   "source": [
    "# Because machines are designed to have a long service life time, we typically do not have many examples of failure. This means the data sets we use in PM are almost always unbalanced.\n",
    "target_window=28\n",
    "\n",
    "# sort data based on ID and date\n",
    "data=data.sort_values(by=['ID', 'DATE'], ascending=[True, True])\n",
    "data.reset_index(level=0, inplace=True)"
   ]
  },
  {
   "cell_type": "code",
   "execution_count": null,
   "id": "8af06236",
   "metadata": {},
   "outputs": [],
   "source": [
    "# Create a new data frame that contains the failure records.\n",
    "df_failure=data[data['EQUIPMENT_FAILURE'] == 1]\n",
    "\n",
    "df_failure=df_failure[['DATE','ID']]\n",
    "\n",
    "df_failure=df_failure.rename(index=str, columns={\"DATE\": \"FAILURE_DATE\"})\n",
    "\n",
    "data=data.sort_values(by=['ID'], ascending=[True])\n",
    "df_failure=df_failure.sort_values(by=['ID'], ascending=[True])\n",
    "\n",
    "# Append the FAILURE_DATE to each ID.\n",
    "data = data.merge(df_failure, on=['ID'], how='left')"
   ]
  },
  {
   "cell_type": "code",
   "execution_count": null,
   "id": "a5fc7943",
   "metadata": {},
   "outputs": [],
   "source": [
    "# For each record, calculate the number of days until failure.\n",
    "data=data.sort_values(by=['ID','DATE'], ascending=[True, True])\n",
    "\n",
    "data['FAILURE_DATE'] = pd.to_datetime(data['FAILURE_DATE'])\n",
    "data['DATE'] = pd.to_datetime(data['DATE'])\n",
    "data['C'] = data['FAILURE_DATE'] - data['DATE']\n",
    "\n",
    "data['TIME_TO_FAILURE'] = data['C'] / np.timedelta64(1, 'D')"
   ]
  },
  {
   "cell_type": "code",
   "execution_count": null,
   "id": "c0ec49cc",
   "metadata": {},
   "outputs": [],
   "source": [
    "# Clean up and sort the records by ID and DATE\n",
    "data = data.drop(columns=['index'])\n",
    "data = data.sort_values(by=['ID', 'DATE'], ascending=[True, True])\n",
    "data.reset_index(inplace=True)"
   ]
  },
  {
   "cell_type": "code",
   "execution_count": null,
   "id": "b054c6fa",
   "metadata": {},
   "outputs": [],
   "source": [
    "# Create a new variable, FAILURE_TARGET. It is equal to 1 if the record proceeds a failure by \"failure_window\" days or less.\n",
    "data['FAILURE_TARGET'] = np.where(((data.TIME_TO_FAILURE < target_window) & ((data.TIME_TO_FAILURE>=0))), 1, 0)"
   ]
  },
  {
   "cell_type": "code",
   "execution_count": null,
   "id": "58881d4e",
   "metadata": {},
   "outputs": [],
   "source": [
    "data.head()"
   ]
  },
  {
   "cell_type": "code",
   "execution_count": null,
   "id": "e4fd7f3e",
   "metadata": {},
   "outputs": [],
   "source": [
    "data.groupby(['FAILURE_TARGET'])['S5'].count()"
   ]
  },
  {
   "cell_type": "code",
   "execution_count": null,
   "id": "3e0c6014",
   "metadata": {},
   "outputs": [],
   "source": [
    "# The new field occurs about 4% of the time. But the data set is still very unballanced\n",
    "data['FAILURE_TARGET'].mean()"
   ]
  },
  {
   "cell_type": "code",
   "execution_count": null,
   "id": "1a62fb37",
   "metadata": {
    "scrolled": true
   },
   "outputs": [],
   "source": [
    "data.drop(columns=['DATE','C','switch','START_DATE','FAILURE_DATE'])"
   ]
  },
  {
   "cell_type": "code",
   "execution_count": null,
   "id": "a32319d9",
   "metadata": {},
   "outputs": [],
   "source": [
    "data.head()"
   ]
  },
  {
   "cell_type": "code",
   "execution_count": null,
   "id": "9644fb57",
   "metadata": {},
   "outputs": [],
   "source": [
    "data.to_pickle(\"data.pkl\")"
   ]
  },
  {
   "cell_type": "code",
   "execution_count": null,
   "id": "7447eddf",
   "metadata": {},
   "outputs": [],
   "source": []
  }
 ],
 "metadata": {
  "kernelspec": {
   "display_name": "Python 3 (ipykernel)",
   "language": "python",
   "name": "python3"
  },
  "language_info": {
   "codemirror_mode": {
    "name": "ipython",
    "version": 3
   },
   "file_extension": ".py",
   "mimetype": "text/x-python",
   "name": "python",
   "nbconvert_exporter": "python",
   "pygments_lexer": "ipython3",
   "version": "3.9.7"
  }
 },
 "nbformat": 4,
 "nbformat_minor": 5
}
