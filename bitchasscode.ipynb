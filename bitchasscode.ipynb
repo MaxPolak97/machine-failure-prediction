{
 "cells": [
  {
   "cell_type": "code",
   "execution_count": 1,
   "id": "21b541e8",
   "metadata": {},
   "outputs": [],
   "source": [
    "import matplotlib.pyplot as plt\n",
    "import pandas as pd\n",
    "import numpy as np\n",
    "from sklearn.model_selection import train_test_split\n",
    "from sklearn.preprocessing import StandardScaler"
   ]
  },
  {
   "cell_type": "code",
   "execution_count": 2,
   "id": "a1d01a7f",
   "metadata": {},
   "outputs": [],
   "source": [
    "df = pd.read_pickle(\"data.pkl\")"
   ]
  },
  {
   "cell_type": "code",
   "execution_count": 3,
   "id": "fd3cdd72",
   "metadata": {},
   "outputs": [
    {
     "name": "stdout",
     "output_type": "stream",
     "text": [
      "<class 'pandas.core.frame.DataFrame'>\n",
      "RangeIndex: 149855 entries, 0 to 149854\n",
      "Data columns (total 86 columns):\n",
      " #   Column             Non-Null Count   Dtype  \n",
      "---  ------             --------------   -----  \n",
      " 0   index              149855 non-null  int64  \n",
      " 1   ID                 149855 non-null  int64  \n",
      " 2   S15                149855 non-null  float64\n",
      " 3   S17                149855 non-null  float64\n",
      " 4   S13                149855 non-null  float64\n",
      " 5   S5                 149855 non-null  float64\n",
      " 6   S16                149855 non-null  float64\n",
      " 7   S19                149855 non-null  float64\n",
      " 8   S18                149855 non-null  float64\n",
      " 9   EQUIPMENT_FAILURE  149855 non-null  int64  \n",
      " 10  S8                 149855 non-null  float64\n",
      " 11  AGE_OF_EQUIPMENT   149855 non-null  int64  \n",
      " 12  TIME_SINCE_START   149855 non-null  float64\n",
      " 13  too_soon           149855 non-null  int32  \n",
      " 14  S15_mean           149855 non-null  float64\n",
      " 15  S17_mean           149855 non-null  float64\n",
      " 16  S13_mean           149855 non-null  float64\n",
      " 17  S5_mean            149855 non-null  float64\n",
      " 18  S16_mean           149855 non-null  float64\n",
      " 19  S19_mean           149855 non-null  float64\n",
      " 20  S18_mean           149855 non-null  float64\n",
      " 21  S8_mean            149855 non-null  float64\n",
      " 22  S15_median         149855 non-null  float64\n",
      " 23  S17_median         149855 non-null  float64\n",
      " 24  S13_median         149855 non-null  float64\n",
      " 25  S5_median          149855 non-null  float64\n",
      " 26  S16_median         149855 non-null  float64\n",
      " 27  S19_median         149855 non-null  float64\n",
      " 28  S18_median         149855 non-null  float64\n",
      " 29  S8_median          149855 non-null  float64\n",
      " 30  S15_max            149855 non-null  float64\n",
      " 31  S17_max            149855 non-null  float64\n",
      " 32  S13_max            149855 non-null  float64\n",
      " 33  S5_max             149855 non-null  float64\n",
      " 34  S16_max            149855 non-null  float64\n",
      " 35  S19_max            149855 non-null  float64\n",
      " 36  S18_max            149855 non-null  float64\n",
      " 37  S8_max             149855 non-null  float64\n",
      " 38  S15_min            149855 non-null  float64\n",
      " 39  S17_min            149855 non-null  float64\n",
      " 40  S13_min            149855 non-null  float64\n",
      " 41  S5_min             149855 non-null  float64\n",
      " 42  S16_min            149855 non-null  float64\n",
      " 43  S19_min            149855 non-null  float64\n",
      " 44  S18_min            149855 non-null  float64\n",
      " 45  S8_min             149855 non-null  float64\n",
      " 46  S15_chg            149855 non-null  float64\n",
      " 47  S17_chg            149855 non-null  float64\n",
      " 48  S13_chg            149855 non-null  float64\n",
      " 49  S5_chg             149855 non-null  float64\n",
      " 50  S16_chg            149855 non-null  float64\n",
      " 51  S19_chg            149855 non-null  float64\n",
      " 52  S18_chg            149855 non-null  float64\n",
      " 53  S8_chg             149855 non-null  float64\n",
      " 54  CLUSTER_A          149855 non-null  uint8  \n",
      " 55  CLUSTER_B          149855 non-null  uint8  \n",
      " 56  CLUSTER_C          149855 non-null  uint8  \n",
      " 57  CLUSTER_D          149855 non-null  uint8  \n",
      " 58  CLUSTER_E          149855 non-null  uint8  \n",
      " 59  CLUSTER_F          149855 non-null  uint8  \n",
      " 60  CLUSTER_G          149855 non-null  uint8  \n",
      " 61  CLUSTER_H          149855 non-null  uint8  \n",
      " 62  MV_I               149855 non-null  uint8  \n",
      " 63  MV_J               149855 non-null  uint8  \n",
      " 64  MV_K               149855 non-null  uint8  \n",
      " 65  MV_L               149855 non-null  uint8  \n",
      " 66  MV_M               149855 non-null  uint8  \n",
      " 67  MV_N               149855 non-null  uint8  \n",
      " 68  MV_O               149855 non-null  uint8  \n",
      " 69  MV_P               149855 non-null  uint8  \n",
      " 70  MN_Q               149855 non-null  uint8  \n",
      " 71  MN_R               149855 non-null  uint8  \n",
      " 72  MN_S               149855 non-null  uint8  \n",
      " 73  MN_T               149855 non-null  uint8  \n",
      " 74  MN_U               149855 non-null  uint8  \n",
      " 75  MN_V               149855 non-null  uint8  \n",
      " 76  MN_W               149855 non-null  uint8  \n",
      " 77  MN_X               149855 non-null  uint8  \n",
      " 78  MN_Y               149855 non-null  uint8  \n",
      " 79  MN_Z               149855 non-null  uint8  \n",
      " 80  WG_1               149855 non-null  uint8  \n",
      " 81  WG_2               149855 non-null  uint8  \n",
      " 82  WG_3               149855 non-null  uint8  \n",
      " 83  WG_4               149855 non-null  uint8  \n",
      " 84  TIME_TO_FAILURE    149855 non-null  float64\n",
      " 85  FAILURE_TARGET     149855 non-null  int32  \n",
      "dtypes: float64(50), int32(2), int64(4), uint8(30)\n",
      "memory usage: 67.2 MB\n"
     ]
    }
   ],
   "source": [
    "df.info()"
   ]
  },
  {
   "cell_type": "code",
   "execution_count": 4,
   "id": "31cfe8df",
   "metadata": {},
   "outputs": [],
   "source": [
    "X = df[[x for x in df.columns if x not in ['FAILURE_TARGET','EQUIPMENT_FAILURE', 'TIME_TO_FAILURE']]]\n",
    "y = df[['FAILURE_TARGET']]"
   ]
  },
  {
   "cell_type": "code",
   "execution_count": 5,
   "id": "00e59c13",
   "metadata": {},
   "outputs": [],
   "source": [
    "try:\n",
    "    X = X.to_numpy()\n",
    "    y = y.to_numpy().ravel()\n",
    "except:\n",
    "    pass\n"
   ]
  },
  {
   "cell_type": "code",
   "execution_count": 6,
   "id": "4edfc6a9",
   "metadata": {},
   "outputs": [],
   "source": [
    "X_train, X_rem, y_train, y_rem = train_test_split(X,y, train_size=0.8)\n",
    "#Now since we want the valid and test size to be equal (10% each of overall data).\n",
    "test_size = 0.5\n",
    "X_val, X_test, y_val, y_test = train_test_split(X_rem,y_rem, test_size=0.5)"
   ]
  },
  {
   "cell_type": "code",
   "execution_count": 7,
   "id": "106929f2",
   "metadata": {},
   "outputs": [],
   "source": [
    "scaler = StandardScaler()\n",
    "X_train_scaled = scaler.fit_transform(X_train)\n",
    "X_val_scaled = scaler.transform(X_val)\n",
    "X_test_scaled = scaler.transform(X_test)\n"
   ]
  },
  {
   "cell_type": "code",
   "execution_count": 8,
   "id": "7e8ade1e",
   "metadata": {},
   "outputs": [],
   "source": [
    "from sklearn.metrics import accuracy_score, confusion_matrix, f1_score\n",
    "def test(y_true,y_pred):\n",
    "    print(accuracy_score(y_true, y_pred))\n",
    "    print(confusion_matrix(y_true, y_pred))\n",
    "    tn, fp, fn, tp = confusion_matrix(y_true, y_pred).ravel()\n",
    "    print('tn',tn, 'fp',fp, 'fn',fn, 'tp',tp)\n",
    "    print('f1', f1_score(y_true, y_pred))\n"
   ]
  },
  {
   "cell_type": "code",
   "execution_count": 9,
   "id": "2e068897",
   "metadata": {},
   "outputs": [
    {
     "name": "stdout",
     "output_type": "stream",
     "text": [
      "0.968968968968969\n",
      "[[14428     8]\n",
      " [  457    92]]\n",
      "tn 14428 fp 8 fn 457 tp 92\n",
      "f1 0.2835130970724192\n"
     ]
    }
   ],
   "source": [
    "from sklearn.svm import SVC\n",
    "svc = SVC(gamma='auto')\n",
    "svc.fit(X_train_scaled,y_train)\n",
    "y_pred = svc.predict(X_val_scaled)\n",
    "test(y_val,y_pred)"
   ]
  },
  {
   "cell_type": "code",
   "execution_count": 10,
   "id": "0532e4ff",
   "metadata": {},
   "outputs": [],
   "source": [
    "from sklearn.utils import resample\n",
    "X_oversampled, y_oversampled = resample(X_train_scaled[y_train == 1],\n",
    "                                        y_train[y_train == 1],\n",
    "                                        replace=True,\n",
    "                                        n_samples=X_train_scaled[y_train == 0].shape[0])\n",
    "X_balanced = np.vstack((X_train_scaled[y_train == 0], X_oversampled))\n",
    "y_balanced = np.hstack((y_train[y_train == 0], y_oversampled))\n",
    "\n"
   ]
  },
  {
   "cell_type": "code",
   "execution_count": 11,
   "id": "5e6a4afb",
   "metadata": {},
   "outputs": [
    {
     "name": "stdout",
     "output_type": "stream",
     "text": [
      "0.8894227560894228\n",
      "[[12791  1645]\n",
      " [   12   537]]\n",
      "tn 12791 fp 1645 fn 12 tp 537\n",
      "f1 0.3932625411937019\n"
     ]
    }
   ],
   "source": [
    "svc_balanced = SVC(gamma='auto')\n",
    "svc_balanced.fit(X_balanced[::2],y_balanced[::2])\n",
    "y_pred_balanced = svc_balanced.predict(X_val_scaled)\n",
    "test(y_val,y_pred_balanced)"
   ]
  },
  {
   "cell_type": "code",
   "execution_count": 12,
   "id": "c55c29d1",
   "metadata": {},
   "outputs": [
    {
     "name": "stdout",
     "output_type": "stream",
     "text": [
      "0.9960627293960628\n",
      "[[14415    21]\n",
      " [   38   511]]\n",
      "tn 14415 fp 21 fn 38 tp 511\n",
      "f1 0.9454209065679926\n"
     ]
    }
   ],
   "source": [
    "from sklearn.ensemble import RandomForestClassifier\n",
    "rfc = RandomForestClassifier()\n",
    "rfc.fit(X_balanced,y_balanced)\n",
    "y_pred_rfc = rfc.predict(X_val_scaled)\n",
    "test(y_val,y_pred_rfc)"
   ]
  },
  {
   "cell_type": "code",
   "execution_count": 13,
   "id": "e1011937",
   "metadata": {},
   "outputs": [
    {
     "name": "stdout",
     "output_type": "stream",
     "text": [
      "0.9803803803803803\n",
      "[[14170   266]\n",
      " [   28   521]]\n",
      "tn 14170 fp 266 fn 28 tp 521\n",
      "f1 0.7799401197604791\n"
     ]
    },
    {
     "name": "stderr",
     "output_type": "stream",
     "text": [
      "/home/luuk/anaconda3/lib/python3.9/site-packages/sklearn/neural_network/_multilayer_perceptron.py:559: ConvergenceWarning: lbfgs failed to converge (status=1):\n",
      "STOP: TOTAL NO. of ITERATIONS REACHED LIMIT.\n",
      "\n",
      "Increase the number of iterations (max_iter) or scale the data as shown in:\n",
      "    https://scikit-learn.org/stable/modules/preprocessing.html\n",
      "  self.n_iter_ = _check_optimize_result(\"lbfgs\", opt_res, self.max_iter)\n"
     ]
    }
   ],
   "source": [
    "from sklearn.neural_network import MLPClassifier\n",
    "nn = MLPClassifier(solver='lbfgs', alpha=1e-5, hidden_layer_sizes=(40, 20))\n",
    "nn.fit(X_balanced,y_balanced)\n",
    "y_pred_nn = nn.predict(X_val_scaled)\n",
    "test(y_val,y_pred_nn)"
   ]
  },
  {
   "cell_type": "code",
   "execution_count": 14,
   "id": "e030209f",
   "metadata": {},
   "outputs": [
    {
     "name": "stdout",
     "output_type": "stream",
     "text": [
      "0.9804484185239557\n",
      "[[14126   263]\n",
      " [   30   567]]\n",
      "tn 14126 fp 263 fn 30 tp 567\n",
      "f1 0.7946741415557114\n"
     ]
    }
   ],
   "source": [
    "y_pred_nn = nn.predict(X_test_scaled)\n",
    "test(y_test,y_pred_nn)"
   ]
  },
  {
   "cell_type": "code",
   "execution_count": 15,
   "id": "511493c8",
   "metadata": {},
   "outputs": [
    {
     "name": "stdout",
     "output_type": "stream",
     "text": [
      "0.9966635526491392\n",
      "[[14378    11]\n",
      " [   39   558]]\n",
      "tn 14378 fp 11 fn 39 tp 558\n",
      "f1 0.9571183533447685\n"
     ]
    }
   ],
   "source": [
    "y_pred_rfc = rfc.predict(X_test_scaled)\n",
    "test(y_test,y_pred_rfc)"
   ]
  },
  {
   "cell_type": "code",
   "execution_count": null,
   "id": "870f4611",
   "metadata": {},
   "outputs": [],
   "source": []
  },
  {
   "cell_type": "code",
   "execution_count": null,
   "id": "2288e5fb",
   "metadata": {},
   "outputs": [],
   "source": []
  }
 ],
 "metadata": {
  "kernelspec": {
   "display_name": "Python 3 (ipykernel)",
   "language": "python",
   "name": "python3"
  },
  "language_info": {
   "codemirror_mode": {
    "name": "ipython",
    "version": 3
   },
   "file_extension": ".py",
   "mimetype": "text/x-python",
   "name": "python",
   "nbconvert_exporter": "python",
   "pygments_lexer": "ipython3",
   "version": "3.9.7"
  }
 },
 "nbformat": 4,
 "nbformat_minor": 5
}
