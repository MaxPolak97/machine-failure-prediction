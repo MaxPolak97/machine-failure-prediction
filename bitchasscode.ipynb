{
 "cells": [
  {
   "cell_type": "code",
   "execution_count": 1,
   "id": "21b541e8",
   "metadata": {},
   "outputs": [],
   "source": [
    "import matplotlib.pyplot as plt\n",
    "import pandas as pd\n",
    "import numpy as np\n",
    "from sklearn.model_selection import train_test_split\n",
    "from sklearn.preprocessing import StandardScaler"
   ]
  },
  {
   "cell_type": "code",
   "execution_count": 2,
   "id": "a1d01a7f",
   "metadata": {},
   "outputs": [],
   "source": [
    "data = pd.read_csv(\"equipment_failure_data_1.csv\", header=0)"
   ]
  },
  {
   "cell_type": "code",
   "execution_count": 3,
   "id": "fd3cdd72",
   "metadata": {},
   "outputs": [
    {
     "name": "stdout",
     "output_type": "stream",
     "text": [
      "<class 'pandas.core.frame.DataFrame'>\n",
      "RangeIndex: 149855 entries, 0 to 149854\n",
      "Data columns (total 16 columns):\n",
      " #   Column              Non-Null Count   Dtype  \n",
      "---  ------              --------------   -----  \n",
      " 0   ID                  149855 non-null  int64  \n",
      " 1   DATE                149855 non-null  object \n",
      " 2   REGION_CLUSTER      149855 non-null  object \n",
      " 3   MAINTENANCE_VENDOR  149855 non-null  object \n",
      " 4   MANUFACTURER        149855 non-null  object \n",
      " 5   WELL_GROUP          149855 non-null  int64  \n",
      " 6   S15                 149855 non-null  float64\n",
      " 7   S17                 149855 non-null  float64\n",
      " 8   S13                 149855 non-null  float64\n",
      " 9   S5                  149855 non-null  float64\n",
      " 10  S16                 149855 non-null  float64\n",
      " 11  S19                 149855 non-null  float64\n",
      " 12  S18                 149855 non-null  float64\n",
      " 13  EQUIPMENT_FAILURE   149855 non-null  int64  \n",
      " 14  S8                  149855 non-null  float64\n",
      " 15  AGE_OF_EQUIPMENT    149855 non-null  int64  \n",
      "dtypes: float64(8), int64(4), object(4)\n",
      "memory usage: 18.3+ MB\n"
     ]
    }
   ],
   "source": [
    "data.info()"
   ]
  },
  {
   "cell_type": "code",
   "execution_count": 4,
   "id": "31cfe8df",
   "metadata": {},
   "outputs": [
    {
     "name": "stdout",
     "output_type": "stream",
     "text": [
      "(149855, 7)\n",
      "0\n"
     ]
    }
   ],
   "source": [
    "try:\n",
    "    data = data.to_numpy()\n",
    "except:\n",
    "    pass\n",
    "X = data[:,6:13].astype('float') \n",
    "y = data[:,13].astype('int') \n",
    "\n",
    "print(X.shape)\n",
    "print(y[0])"
   ]
  },
  {
   "cell_type": "code",
   "execution_count": 5,
   "id": "00e59c13",
   "metadata": {},
   "outputs": [],
   "source": [
    "X_train, X_rem, y_train, y_rem = train_test_split(X,y, train_size=0.8)\n",
    "\n",
    "# Now since we want the valid and test size to be equal (10% each of overall data). \n",
    "# we have to define valid_size=0.5 (that is 50% of remaining data)\n",
    "test_size = 0.5\n",
    "X_val, X_test, y_val, y_test = train_test_split(X_rem,y_rem, test_size=0.5)"
   ]
  },
  {
   "cell_type": "code",
   "execution_count": 6,
   "id": "106929f2",
   "metadata": {},
   "outputs": [],
   "source": [
    "scaler = StandardScaler()\n",
    "X_train_scaled = scaler.fit_transform(X_train)\n",
    "X_val_scaled = scaler.transform(X_val)\n",
    "X_test_scaled = scaler.transform(X_test)\n"
   ]
  },
  {
   "cell_type": "code",
   "execution_count": 7,
   "id": "7e8ade1e",
   "metadata": {},
   "outputs": [],
   "source": [
    "from sklearn.svm import SVC\n",
    "svc = SVC(gamma='auto')\n",
    "svc.fit(X_train_scaled,y_train)\n",
    "y_pred = svc.predict(X_val_scaled)"
   ]
  },
  {
   "cell_type": "code",
   "execution_count": 10,
   "id": "2e068897",
   "metadata": {},
   "outputs": [
    {
     "name": "stdout",
     "output_type": "stream",
     "text": [
      "0.9986653319986654\n",
      "[[14965     0]\n",
      " [   20     0]]\n",
      "14965 0 20 0\n"
     ]
    }
   ],
   "source": [
    "from sklearn.metrics import accuracy_score, confusion_matrix\n",
    "print(accuracy_score(y_val, y_pred))\n",
    "print(confusion_matrix(y_val, y_pred))\n",
    "tn, fp, fn, tp = confusion_matrix(y_val, y_pred).ravel()\n",
    "print(tn, fp, fn, tp)"
   ]
  },
  {
   "cell_type": "code",
   "execution_count": 17,
   "id": "33e0320d",
   "metadata": {},
   "outputs": [],
   "source": [
    "from sklearn.utils import resample\n",
    "X_oversampled, y_oversampled = resample(X_train_scaled[y_train == 1],\n",
    "                                        y_train[y_train == 1],\n",
    "                                        replace=True,\n",
    "                                        n_samples=X_train_scaled[y_train == 0].shape[0])\n",
    "X_balanced = np.vstack((X_train[y_train == 0], X_oversampled))\n",
    "y_balanced = np.hstack((y_train[y_train == 0], y_oversampled))\n",
    "svc = SVC(gamma='auto')\n",
    "svc.fit(X_balanced,y_balanced)\n",
    "y_pred = svc.predict(X_val_scaled)\n"
   ]
  },
  {
   "cell_type": "code",
   "execution_count": 18,
   "id": "431dfeaa",
   "metadata": {},
   "outputs": [
    {
     "name": "stdout",
     "output_type": "stream",
     "text": [
      "0.8999666332999666\n",
      "[[13467  1498]\n",
      " [    1    19]]\n",
      "13467 1498 1 19\n"
     ]
    }
   ],
   "source": [
    "print(accuracy_score(y_val, y_pred))\n",
    "print(confusion_matrix(y_val, y_pred))\n",
    "tn, fp, fn, tp = confusion_matrix(y_val, y_pred).ravel()\n",
    "print(tn, fp, fn, tp)"
   ]
  },
  {
   "cell_type": "code",
   "execution_count": 23,
   "id": "65fa4261",
   "metadata": {},
   "outputs": [
    {
     "name": "stdout",
     "output_type": "stream",
     "text": [
      "(239438, 7)\n",
      "(239438,)\n",
      "[0 1]\n"
     ]
    }
   ],
   "source": [
    "print(X_balanced.shape)\n",
    "print(y_balanced.shape)\n",
    "print(np.unique(y_balanced))"
   ]
  },
  {
   "cell_type": "code",
   "execution_count": null,
   "id": "048e762b",
   "metadata": {},
   "outputs": [],
   "source": []
  }
 ],
 "metadata": {
  "kernelspec": {
   "display_name": "Python 3 (ipykernel)",
   "language": "python",
   "name": "python3"
  },
  "language_info": {
   "codemirror_mode": {
    "name": "ipython",
    "version": 3
   },
   "file_extension": ".py",
   "mimetype": "text/x-python",
   "name": "python",
   "nbconvert_exporter": "python",
   "pygments_lexer": "ipython3",
   "version": "3.9.7"
  }
 },
 "nbformat": 4,
 "nbformat_minor": 5
}
