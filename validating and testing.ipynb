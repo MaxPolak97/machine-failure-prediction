{
 "cells": [
  {
   "cell_type": "code",
   "execution_count": 1,
   "id": "18dcb593",
   "metadata": {},
   "outputs": [],
   "source": [
    "import pandas as pd\n",
    "from sklearn.model_selection import train_test_split\n",
    "from sklearn.metrics import f1_score, accuracy_score, classification_report, confusion_matrix\n",
    "from sklearn.ensemble import RandomForestClassifier"
   ]
  },
  {
   "cell_type": "code",
   "execution_count": 2,
   "id": "27ddea0a",
   "metadata": {},
   "outputs": [],
   "source": [
    "#from activation_fns import sigmoid\n",
    "#from evaluation import threshold_predictions\n",
    "import matplotlib.pyplot as plt\n",
    "import numpy as np\n",
    "import itertools\n",
    "\n",
    "def confusion_matrix(y_true, y_pred):\n",
    "    # YOUR CODE HERE\n",
    "    TP = FP = TN = FN = 0\n",
    "    for i in range(y_true.shape[0]):\n",
    "        if (y_true[i] == y_pred[i]):\n",
    "            if (y_true[i]== True):\n",
    "                TP = TP+1\n",
    "            else:\n",
    "                TN = TN+1\n",
    "        else:\n",
    "            if (y_true[i]==True):\n",
    "                FN = FN+1\n",
    "            else:\n",
    "                FP = FP+1\n",
    "    cm = np.zeros((2,2))   # calculate\n",
    "    print(\"true positive:\",TP, \"false positive:\" , FP,\"True negative: \", TN, \"false negative:\",FN)\n",
    "\n",
    "    # YOUR CODE HERE\n",
    "    cm= np.array([[TN,FP],[FN,TP]])\n",
    "    assert cm.shape == (2,2)\n",
    "    return cm\n",
    "\n",
    "def plot_confusion_matrix(cm, classes=['False', 'True'], normalize=False, title='Normalized confusion matrix', cmap=plt.cm.Blues):\n",
    "    if normalize:\n",
    "        cm = cm.astype('float') / cm.sum(axis=1)[:, np.newaxis]\n",
    "    \n",
    "    plt.imshow(cm, interpolation='nearest', cmap=cmap)\n",
    "\n",
    "    tick_marks = np.arange(len(classes))\n",
    "    plt.xticks(tick_marks, classes)\n",
    "    plt.yticks(tick_marks, classes)    \n",
    "    fmt = '.2f' if normalize else 'd'\n",
    "    thresh = np.sum(cm) / 4.\n",
    "    for i, j in itertools.product(range(cm.shape[0]), range(cm.shape[1])):\n",
    "        plt.text(j, i, format(cm[i, j], fmt), horizontalalignment=\"center\", color=\"white\" if cm[i, j] > thresh else \"black\")\n",
    "    \n",
    "    plt.title(title)\n",
    "    plt.colorbar()\n",
    "    plt.tight_layout()\n",
    "    plt.ylabel('True label')\n",
    "    plt.xlabel('Predicted label')"
   ]
  },
  {
   "cell_type": "code",
   "execution_count": 11,
   "id": "76340913",
   "metadata": {},
   "outputs": [
    {
     "name": "stdout",
     "output_type": "stream",
     "text": [
      "[[14250   166]\n",
      " [   18   552]]\n"
     ]
    },
    {
     "data": {
      "image/png": "[encoded data removed]",
      "text/plain": [
       "<Figure size 432x288 with 2 Axes>"
      ]
     },
     "metadata": {
      "needs_background": "light"
     },
     "output_type": "display_data"
    }
   ],
   "source": [
    "## validating set\n",
    "cm = np.array([[14250,166],[18,552]])\n",
    "print(cm)\n",
    "plot_confusion_matrix(cm, normalize=True)\n",
    "plt.show()"
   ]
  },
  {
   "cell_type": "code",
   "execution_count": 13,
   "id": "1d1ad5a4",
   "metadata": {},
   "outputs": [
    {
     "name": "stdout",
     "output_type": "stream",
     "text": [
      "14250 18 166 552\n",
      "TPR/Sensitivity:  0.968421052631579\n",
      "FPR/Fall-out:  0.011514983351831298\n",
      "Accuracy:  0.9877218737488322\n"
     ]
    }
   ],
   "source": [
    "tpr = 0.       # calculate\n",
    "fpr = 0.       # calculate\n",
    "accuracy = 0.  # calculate\n",
    "\n",
    "\n",
    "# YOUR CODE HERE\n",
    "TN= cm[0,0]\n",
    "FP=cm[0,1]\n",
    "FN=cm[1,0]\n",
    "TP=cm[1,1]\n",
    "print(TN,FN,FP,TP)\n",
    "tpr = TP/(FN+TP)       # calculate\n",
    "fpr = FP/(FP+TN)       # calculate\n",
    "accuracy = ((TP + TN) / (TP + FP + TN + FN))\n",
    "\n",
    "print('TPR/Sensitivity: ', tpr)\n",
    "print('FPR/Fall-out: ', fpr)\n",
    "print('Accuracy: ', accuracy)\n"
   ]
  },
  {
   "cell_type": "code",
   "execution_count": null,
   "id": "56d54d9b",
   "metadata": {},
   "outputs": [],
   "source": []
  }
 ],
 "metadata": {
  "kernelspec": {
   "display_name": "Python 3 (ipykernel)",
   "language": "python",
   "name": "python3"
  },
  "language_info": {
   "codemirror_mode": {
    "name": "ipython",
    "version": 3
   },
   "file_extension": ".py",
   "mimetype": "text/x-python",
   "name": "python",
   "nbconvert_exporter": "python",
   "pygments_lexer": "ipython3",
   "version": "3.8.8"
  }
 },
 "nbformat": 4,
 "nbformat_minor": 5
}
