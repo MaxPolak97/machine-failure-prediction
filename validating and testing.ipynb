{
 "cells": [
  {
   "cell_type": "code",
   "execution_count": 58,
   "id": "18dcb593",
   "metadata": {},
   "outputs": [],
   "source": [
    "import pandas as pd\n",
    "from sklearn.model_selection import train_test_split\n",
    "from sklearn.metrics import f1_score, accuracy_score, classification_report, confusion_matrix\n",
    "from sklearn.ensemble import RandomForestClassifier\n",
    "\n"
   ]
  },
  {
   "cell_type": "code",
   "execution_count": 27,
   "id": "ee5aaa61",
   "metadata": {},
   "outputs": [],
   "source": [
    "data = pd.read_csv(\"equipment_failure_data_1.csv\", header=0)"
   ]
  },
  {
   "cell_type": "code",
   "execution_count": 28,
   "id": "66bda3b3",
   "metadata": {},
   "outputs": [
    {
     "data": {
      "text/html": [
       "<div>\n",
       "<style scoped>\n",
       "    .dataframe tbody tr th:only-of-type {\n",
       "        vertical-align: middle;\n",
       "    }\n",
       "\n",
       "    .dataframe tbody tr th {\n",
       "        vertical-align: top;\n",
       "    }\n",
       "\n",
       "    .dataframe thead th {\n",
       "        text-align: right;\n",
       "    }\n",
       "</style>\n",
       "<table border=\"1\" class=\"dataframe\">\n",
       "  <thead>\n",
       "    <tr style=\"text-align: right;\">\n",
       "      <th></th>\n",
       "      <th>ID</th>\n",
       "      <th>DATE</th>\n",
       "      <th>REGION_CLUSTER</th>\n",
       "      <th>MAINTENANCE_VENDOR</th>\n",
       "      <th>MANUFACTURER</th>\n",
       "      <th>WELL_GROUP</th>\n",
       "      <th>S15</th>\n",
       "      <th>S17</th>\n",
       "      <th>S13</th>\n",
       "      <th>S5</th>\n",
       "      <th>S16</th>\n",
       "      <th>S19</th>\n",
       "      <th>S18</th>\n",
       "      <th>EQUIPMENT_FAILURE</th>\n",
       "      <th>S8</th>\n",
       "      <th>AGE_OF_EQUIPMENT</th>\n",
       "    </tr>\n",
       "  </thead>\n",
       "  <tbody>\n",
       "    <tr>\n",
       "      <th>0</th>\n",
       "      <td>100001</td>\n",
       "      <td>12/2/14</td>\n",
       "      <td>G</td>\n",
       "      <td>O</td>\n",
       "      <td>Y</td>\n",
       "      <td>1</td>\n",
       "      <td>11.088000</td>\n",
       "      <td>145.223448</td>\n",
       "      <td>39.34</td>\n",
       "      <td>3501.0</td>\n",
       "      <td>8.426869</td>\n",
       "      <td>1.9</td>\n",
       "      <td>24.610345</td>\n",
       "      <td>0</td>\n",
       "      <td>0.0</td>\n",
       "      <td>880</td>\n",
       "    </tr>\n",
       "    <tr>\n",
       "      <th>1</th>\n",
       "      <td>100001</td>\n",
       "      <td>12/3/14</td>\n",
       "      <td>G</td>\n",
       "      <td>O</td>\n",
       "      <td>Y</td>\n",
       "      <td>1</td>\n",
       "      <td>8.877943</td>\n",
       "      <td>187.573214</td>\n",
       "      <td>39.20</td>\n",
       "      <td>3489.0</td>\n",
       "      <td>6.483714</td>\n",
       "      <td>1.9</td>\n",
       "      <td>24.671429</td>\n",
       "      <td>0</td>\n",
       "      <td>0.0</td>\n",
       "      <td>881</td>\n",
       "    </tr>\n",
       "    <tr>\n",
       "      <th>2</th>\n",
       "      <td>100001</td>\n",
       "      <td>12/4/14</td>\n",
       "      <td>G</td>\n",
       "      <td>O</td>\n",
       "      <td>Y</td>\n",
       "      <td>1</td>\n",
       "      <td>8.676444</td>\n",
       "      <td>148.363704</td>\n",
       "      <td>38.87</td>\n",
       "      <td>3459.0</td>\n",
       "      <td>6.159659</td>\n",
       "      <td>2.0</td>\n",
       "      <td>24.733333</td>\n",
       "      <td>0</td>\n",
       "      <td>0.0</td>\n",
       "      <td>882</td>\n",
       "    </tr>\n",
       "    <tr>\n",
       "      <th>3</th>\n",
       "      <td>100001</td>\n",
       "      <td>12/5/14</td>\n",
       "      <td>G</td>\n",
       "      <td>O</td>\n",
       "      <td>Y</td>\n",
       "      <td>1</td>\n",
       "      <td>9.988338</td>\n",
       "      <td>133.660000</td>\n",
       "      <td>39.47</td>\n",
       "      <td>3513.0</td>\n",
       "      <td>9.320308</td>\n",
       "      <td>2.0</td>\n",
       "      <td>24.773077</td>\n",
       "      <td>0</td>\n",
       "      <td>0.0</td>\n",
       "      <td>883</td>\n",
       "    </tr>\n",
       "    <tr>\n",
       "      <th>4</th>\n",
       "      <td>100001</td>\n",
       "      <td>12/6/14</td>\n",
       "      <td>G</td>\n",
       "      <td>O</td>\n",
       "      <td>Y</td>\n",
       "      <td>1</td>\n",
       "      <td>8.475264</td>\n",
       "      <td>197.181600</td>\n",
       "      <td>40.33</td>\n",
       "      <td>3589.0</td>\n",
       "      <td>8.022960</td>\n",
       "      <td>1.5</td>\n",
       "      <td>24.808000</td>\n",
       "      <td>0</td>\n",
       "      <td>0.0</td>\n",
       "      <td>884</td>\n",
       "    </tr>\n",
       "  </tbody>\n",
       "</table>\n",
       "</div>"
      ],
      "text/plain": [
       "       ID     DATE REGION_CLUSTER MAINTENANCE_VENDOR MANUFACTURER  WELL_GROUP  \\\n",
       "0  100001  12/2/14              G                  O            Y           1   \n",
       "1  100001  12/3/14              G                  O            Y           1   \n",
       "2  100001  12/4/14              G                  O            Y           1   \n",
       "3  100001  12/5/14              G                  O            Y           1   \n",
       "4  100001  12/6/14              G                  O            Y           1   \n",
       "\n",
       "         S15         S17    S13      S5       S16  S19        S18  \\\n",
       "0  11.088000  145.223448  39.34  3501.0  8.426869  1.9  24.610345   \n",
       "1   8.877943  187.573214  39.20  3489.0  6.483714  1.9  24.671429   \n",
       "2   8.676444  148.363704  38.87  3459.0  6.159659  2.0  24.733333   \n",
       "3   9.988338  133.660000  39.47  3513.0  9.320308  2.0  24.773077   \n",
       "4   8.475264  197.181600  40.33  3589.0  8.022960  1.5  24.808000   \n",
       "\n",
       "   EQUIPMENT_FAILURE   S8  AGE_OF_EQUIPMENT  \n",
       "0                  0  0.0               880  \n",
       "1                  0  0.0               881  \n",
       "2                  0  0.0               882  \n",
       "3                  0  0.0               883  \n",
       "4                  0  0.0               884  "
      ]
     },
     "execution_count": 28,
     "metadata": {},
     "output_type": "execute_result"
    }
   ],
   "source": [
    "data.head()"
   ]
  },
  {
   "cell_type": "code",
   "execution_count": 52,
   "id": "f9d2dab3",
   "metadata": {},
   "outputs": [
    {
     "name": "stdout",
     "output_type": "stream",
     "text": [
      "EQUIPMENT_FAILURE\n",
      "0                    149650\n",
      "1                       205\n",
      "dtype: int64\n"
     ]
    }
   ],
   "source": [
    "sensors = ['S15','S17','S13', 'S5', 'S16', 'S19', 'S18', 'S8']\n",
    "X = data[sensors]\n",
    "y = data[['EQUIPMENT_FAILURE']]\n",
    "print(y.value_counts())\n",
    "y = y['EQUIPMENT_FAILURE'].ravel()"
   ]
  },
  {
   "cell_type": "code",
   "execution_count": 59,
   "id": "8d9ff922",
   "metadata": {},
   "outputs": [
    {
     "name": "stdout",
     "output_type": "stream",
     "text": [
      "\n",
      " X_train:  (119884, 8)\n",
      "\n",
      " X_test:  (14985, 8)\n",
      "\n",
      " X_val:  (14986, 8)\n"
     ]
    }
   ],
   "source": [
    "# SPLIT 60% training, 20% validation, 20% test data\n",
    "X_train, X_test, y_train, y_test = train_test_split(X, y, test_size=0.2, random_state=1) \n",
    "X_test,  X_val,  y_test,  y_val  = train_test_split(X_test, y_test, test_size=0.5, random_state=1)\n",
    "data_y.value_counts()\n",
    "print(\"\\n X_train: \", X_train.shape)\n",
    "print(\"\\n X_test: \", X_test.shape)\n",
    "print(\"\\n X_val: \", X_val.shape)"
   ]
  },
  {
   "cell_type": "code",
   "execution_count": 55,
   "id": "47250e21",
   "metadata": {},
   "outputs": [],
   "source": [
    "rf = RandomForestClassifier(random_state=2)\n",
    "rf.fit(X_train, y_train)\n",
    "y_pred_rf_val = rf.predict(X_val)"
   ]
  },
  {
   "cell_type": "code",
   "execution_count": 75,
   "id": "27ddea0a",
   "metadata": {},
   "outputs": [],
   "source": [
    "#from activation_fns import sigmoid\n",
    "#from evaluation import threshold_predictions\n",
    "import matplotlib.pyplot as plt\n",
    "import numpy as np\n",
    "import itertools\n",
    "\n",
    "def confusion_matrix(y_true, y_pred):\n",
    "    # YOUR CODE HERE\n",
    "    TP = FP = TN = FN = 0\n",
    "    for i in range(y_true.shape[0]):\n",
    "        if (y_true[i] == y_pred[i]):\n",
    "            if (y_true[i]== True):\n",
    "                TP = TP+1\n",
    "            else:\n",
    "                TN = TN+1\n",
    "        else:\n",
    "            if (y_true[i]==True):\n",
    "                FN = FN+1\n",
    "            else:\n",
    "                FP = FP+1\n",
    "    cm = np.zeros((2,2))   # calculate\n",
    "    print(\"true positive:\",TP, \"false positive:\" , FP,\"True negative: \", TN, \"false negative:\",FN)\n",
    "\n",
    "    # YOUR CODE HERE\n",
    "    cm= np.array([[TN,FP],[FN,TP]])\n",
    "    assert cm.shape == (2,2)\n",
    "    return cm\n",
    "\n",
    "def plot_confusion_matrix(cm, classes=['False', 'True'], normalize=False, title='Normalized confusion matrix', cmap=plt.cm.Blues):\n",
    "    if normalize:\n",
    "        cm = cm.astype('float') / cm.sum(axis=1)[:, np.newaxis]\n",
    "    \n",
    "    plt.imshow(cm, interpolation='nearest', cmap=cmap)\n",
    "\n",
    "    tick_marks = np.arange(len(classes))\n",
    "    plt.xticks(tick_marks, classes)\n",
    "    plt.yticks(tick_marks, classes)    \n",
    "    fmt = '.2f' if normalize else 'd'\n",
    "    thresh = np.sum(cm) / 4.\n",
    "    for i, j in itertools.product(range(cm.shape[0]), range(cm.shape[1])):\n",
    "        plt.text(j, i, format(cm[i, j], fmt), horizontalalignment=\"center\", color=\"white\" if cm[i, j] > thresh else \"black\")\n",
    "    \n",
    "    plt.title(title)\n",
    "    plt.colorbar()\n",
    "    plt.tight_layout()\n",
    "    plt.ylabel('True label')\n",
    "    plt.xlabel('Predicted label')"
   ]
  },
  {
   "cell_type": "code",
   "execution_count": 82,
   "id": "76340913",
   "metadata": {},
   "outputs": [
    {
     "name": "stdout",
     "output_type": "stream",
     "text": [
      "\n",
      "               precision    recall  f1-score   support\n",
      "\n",
      "           0       1.00      1.00      1.00     14960\n",
      "           1       0.00      0.00      0.00        26\n",
      "\n",
      "    accuracy                           1.00     14986\n",
      "   macro avg       0.50      0.50      0.50     14986\n",
      "weighted avg       1.00      1.00      1.00     14986\n",
      "\n",
      "true positive: 0 false positive: 21 True negative:  14964 false negative: 0\n",
      "the confusion matrix NN: \n",
      " [[14964    21]\n",
      " [    0     0]]\n",
      "true positive: 0 false positive: 0 True negative:  14964 false negative: 21\n",
      "[[14964     0]\n",
      " [   21     0]]\n"
     ]
    },
    {
     "data": {
      "image/png": "[encoded data removed]",
      "text/plain": [
       "<Figure size 432x288 with 2 Axes>"
      ]
     },
     "metadata": {
      "needs_background": "light"
     },
     "output_type": "display_data"
    }
   ],
   "source": [
    "## validating set\n",
    "print(\"\\n\",classification_report(y_val,y_pred_rf_val))\n",
    "y_pred_rf = rf.predict(X_test)\n",
    "acc_score = accuracy_score(y_test, y_pred_rf)\n",
    "\n",
    "print(\"the confusion matrix NN: \\n\", confusion_matrix(y_pred_rf, y_test))\n",
    "#print(\"\\n\",classification_report(y_test,y_pred_rf))\n",
    "cm = confusion_matrix(y_test, y_pred_rf)\n",
    "print(cm)\n",
    "plot_confusion_matrix(cm, normalize=True)\n",
    "plt.show()"
   ]
  },
  {
   "cell_type": "code",
   "execution_count": 84,
   "id": "1d1ad5a4",
   "metadata": {},
   "outputs": [
    {
     "name": "stdout",
     "output_type": "stream",
     "text": [
      "14964 21 0 0\n",
      "TPR/Sensitivity:  0.0\n",
      "FPR/Fall-out:  0.0\n",
      "Accuracy:  0.9985985985985986\n",
      "F1 score:  0.9978983892236423\n"
     ]
    }
   ],
   "source": [
    "tpr = 0.       # calculate\n",
    "fpr = 0.       # calculate\n",
    "accuracy = 0.  # calculate\n",
    "\n",
    "\n",
    "# YOUR CODE HERE\n",
    "TN= cm[0,0]\n",
    "FP=cm[0,1]\n",
    "FN=cm[1,0]\n",
    "TP=cm[1,1]\n",
    "print(TN,FN,FP,TP)\n",
    "tpr = TP/(FN+TP)       # calculate\n",
    "fpr = FP/(FP+TN)       # calculate\n",
    "accuracy = ((TP + TN) / (TP + FP + TN + FN))\n",
    "\n",
    "print('TPR/Sensitivity: ', tpr)\n",
    "print('FPR/Fall-out: ', fpr)\n",
    "print('Accuracy: ', accuracy)\n",
    "print(\"F1 score: \" , f1_score(y_test, y_pred_rf, average='weighted'))"
   ]
  },
  {
   "cell_type": "code",
   "execution_count": null,
   "id": "56d54d9b",
   "metadata": {},
   "outputs": [],
   "source": []
  }
 ],
 "metadata": {
  "kernelspec": {
   "display_name": "Python 3 (ipykernel)",
   "language": "python",
   "name": "python3"
  },
  "language_info": {
   "codemirror_mode": {
    "name": "ipython",
    "version": 3
   },
   "file_extension": ".py",
   "mimetype": "text/x-python",
   "name": "python",
   "nbconvert_exporter": "python",
   "pygments_lexer": "ipython3",
   "version": "3.9.7"
  }
 },
 "nbformat": 4,
 "nbformat_minor": 5
}
